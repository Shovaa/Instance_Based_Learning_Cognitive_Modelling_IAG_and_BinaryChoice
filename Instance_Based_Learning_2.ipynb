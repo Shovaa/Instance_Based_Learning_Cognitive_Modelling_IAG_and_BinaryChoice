{
 "cells": [
  {
   "cell_type": "code",
   "execution_count": 8,
   "id": "invalid-sound",
   "metadata": {},
   "outputs": [],
   "source": [
    "from pyibl import Agent\n",
    "from random import random\n",
    "a = Agent([\"button\", \"illuminated\"], default_utility=5)\n",
    "left = { \"button\": \"left\", \"illuminated\": False }\n",
    "right = { \"button\": \"right\", \"illuminated\": False }"
   ]
  },
  {
   "cell_type": "code",
   "execution_count": 9,
   "id": "given-simple",
   "metadata": {},
   "outputs": [
    {
     "data": {
      "text/plain": [
       "{'button': 'left', 'illuminated': False}"
      ]
     },
     "execution_count": 9,
     "metadata": {},
     "output_type": "execute_result"
    }
   ],
   "source": [
    "def push_button():\n",
    "    if random() <= 0.5:\n",
    "        left[\"illuminated\"] = True\n",
    "    else:\n",
    "        left[\"illuminated\"] = False\n",
    "    right[\"illuminated\"] = not left[\"illuminated\"]\n",
    "    result = a.choose([left, right])\n",
    "    reward = 1 if result[\"button\"] == \"left\" else 2\n",
    "    if result[\"illuminated\"]:\n",
    "        reward *= 2\n",
    "    a.respond(reward)\n",
    "    return result\n",
    "\n",
    "push_button()"
   ]
  },
  {
   "cell_type": "code",
   "execution_count": 10,
   "id": "amazing-touch",
   "metadata": {},
   "outputs": [
    {
     "data": {
      "text/plain": [
       "{'left': 522, 'right': 1478, True: 1533, False: 467}"
      ]
     },
     "execution_count": 10,
     "metadata": {},
     "output_type": "execute_result"
    }
   ],
   "source": [
    "a.reset()\n",
    "results = {'left': 0, 'right': 0, True: 0, False: 0}\n",
    "for _ in range(2000):\n",
    "    result = push_button()\n",
    "    results[result[\"button\"]] += 1\n",
    "    results[result[\"illuminated\"]] += 1\n",
    "\n",
    "results"
   ]
  },
  {
   "cell_type": "code",
   "execution_count": 22,
   "id": "marked-occurrence",
   "metadata": {},
   "outputs": [
    {
     "ename": "IndentationError",
     "evalue": "unexpected indent (<ipython-input-22-dae058333ffa>, line 124)",
     "output_type": "error",
     "traceback": [
      "\u001b[1;36m  File \u001b[1;32m\"<ipython-input-22-dae058333ffa>\"\u001b[1;36m, line \u001b[1;32m124\u001b[0m\n\u001b[1;33m    for b in range(BLOCKS):\u001b[0m\n\u001b[1;37m    ^\u001b[0m\n\u001b[1;31mIndentationError\u001b[0m\u001b[1;31m:\u001b[0m unexpected indent\n"
     ]
    }
   ],
   "source": [
    "import time \n",
    "import random\n",
    "from speedyibl import Agent \n",
    "TARGETS = [ [ { \"payment\": 2, \"penalty\":  -1, \"monitored_probability\": 0.22 },\n",
    "              { \"payment\": 8, \"penalty\":  -5, \"monitored_probability\": 0.51 },\n",
    "              { \"payment\": 9, \"penalty\":  -9, \"monitored_probability\": 0.42 },\n",
    "              { \"payment\": 9, \"penalty\": -10, \"monitored_probability\": 0.40 },\n",
    "              { \"payment\": 2, \"penalty\":  -6, \"monitored_probability\": 0.08 },\n",
    "              { \"payment\": 5, \"penalty\":  -5, \"monitored_probability\": 0.36 } ],\n",
    "            [ { \"payment\": 5, \"penalty\":  -3, \"monitored_probability\": 0.41 },\n",
    "              { \"payment\": 8, \"penalty\":  -5, \"monitored_probability\": 0.48 },\n",
    "              { \"payment\": 7, \"penalty\":  -6, \"monitored_probability\": 0.41 },\n",
    "              { \"payment\": 8, \"penalty\":  -9, \"monitored_probability\": 0.37 },\n",
    "              { \"payment\": 5, \"penalty\":  -7, \"monitored_probability\": 0.27 },\n",
    "              { \"payment\": 2, \"penalty\":  -4, \"monitored_probability\": 0.05 } ],\n",
    "            [ { \"payment\": 3, \"penalty\":  -3, \"monitored_probability\": 0.30 },\n",
    "              { \"payment\": 9, \"penalty\":  -4, \"monitored_probability\": 0.60 },\n",
    "              { \"payment\": 6, \"penalty\":  -6, \"monitored_probability\": 0.40 },\n",
    "              { \"payment\": 5, \"penalty\":  -8, \"monitored_probability\": 0.29 },\n",
    "              { \"payment\": 3, \"penalty\":  -6, \"monitored_probability\": 0.20 },\n",
    "              { \"payment\": 2, \"penalty\":  -2, \"monitored_probability\": 0.20 } ],\n",
    "            [ { \"payment\": 4, \"penalty\":  -3, \"monitored_probability\": 0.37 },\n",
    "              { \"payment\": 6, \"penalty\":  -3, \"monitored_probability\": 0.51 },\n",
    "              { \"payment\": 7, \"penalty\":  -7, \"monitored_probability\": 0.40 },\n",
    "              { \"payment\": 5, \"penalty\": -10, \"monitored_probability\": 0.24 },\n",
    "              { \"payment\": 5, \"penalty\":  -9, \"monitored_probability\": 0.26 },\n",
    "              { \"payment\": 3, \"penalty\":  -4, \"monitored_probability\": 0.23 } ] ]\n",
    "\n",
    "COVERAGE = [ [ { 2, 6 }, { 2, 4 }, { 2, 5 }, { 2, 4 }, { 1, 3 },\n",
    "               { 2, 4 }, { 1, 3 }, { 1, 3 }, { 2, 4 }, { 2, 6 },\n",
    "               { 2, 6 }, { 2, 4 }, { 1, 3 }, { 2, 4 }, { 2, 4 },\n",
    "               { 1, 3 }, { 3, 6 }, { 2, 4 }, { 2, 4 }, { 3, 6 },\n",
    "               { 1, 3 }, { 2, 4 }, { 3, 6 }, { 2, 4 }, { 1, 3 } ],\n",
    "             [ { 2, 5 }, { 1, 3 }, { 1, 3 }, { 3, 6 }, { 1, 3 },\n",
    "               { 2, 4 }, { 1, 3 }, { 2, 4 }, { 1, 3 }, { 1, 4 },\n",
    "               { 1, 3 }, { 1, 3 }, { 2, 5 }, { 1, 3 }, { 1, 3 },\n",
    "               { 1, 3 }, { 2, 5 }, { 2, 4 }, { 2, 4 }, { 1, 3 },\n",
    "               { 1, 3 }, { 2, 4 }, { 2, 4 }, { 3, 6 }, { 2, 5 } ],\n",
    "             [ { 2, 5 }, { 3, 6 }, { 2, 4 }, { 2, 5 }, { 2, 5 },\n",
    "               { 2, 6 }, { 2, 6 }, { 1, 3 }, { 2, 4 }, { 1, 3 },\n",
    "               { 2, 4 }, { 1, 3 }, { 1, 3 }, { 2, 6 }, { 2, 5 },\n",
    "               { 1, 3 }, { 2, 4 }, { 1, 3 }, { 2, 4 }, { 2, 5 },\n",
    "               { 2, 4 }, { 2, 4 }, { 2, 6 }, { 1, 3 }, { 2, 4 } ],\n",
    "             [ { 2, 5 }, { 1, 4 }, { 3, 6 }, { 2, 6 }, { 1, 3 },\n",
    "               { 1, 4 }, { 1, 3 }, { 2, 5 }, { 2, 6 }, { 1, 3 },\n",
    "               { 1, 3 }, { 3, 6 }, { 2, 4 }, { 1, 4 }, { 1, 4 },\n",
    "               { 1, 3 }, { 1, 3 }, { 1, 4 }, { 1, 3 }, { 2, 5 },\n",
    "               { 3, 6 }, { 1, 3 }, { 1, 3 }, { 3, 6 }, { 1, 4 } ] ]\n",
    "\n",
    "TRAINING_COVERAGE = [ { 2, 5 }, { 2, 4 }, { 1 , 3 }, { 1, 3 }, { 1, 3 } ]\n",
    "\n",
    "SIGNALS = [ [ { 3, 4 }, { 3, 6 }, { 3, 6 }, { 3, 5, 6 }, { 2, 6 },\n",
    "              { 3, 6 }, { 2, 4}, { 2, 6 }, { 3, 6 }, { 1, 3, 4 },\n",
    "              { 3, 4 }, { 1, 3 }, { 4, 6 }, { 5}, { 3, 6 },\n",
    "              { 2, 4 }, { 5 }, { 3 }, { 6 }, { 2, 4 },\n",
    "              { 2, 4 }, set(), {2, 4, 5 }, { 3 }, { 5, 6 } ],\n",
    "            [ { 3, 4 }, { 2, 4 }, { 2, 4, 5 }, { 4, 5 }, { 4, 5 },\n",
    "              { 1, 3, 6 }, { 2 }, { 3 }, { 5 }, set(),\n",
    "              { 2, 5 }, { 2, 5 }, {3, 4 }, { 2, 5 }, { 2, 4, 5 },\n",
    "              { 4, 5 }, { 3, 4 }, { 3, 5, 6 }, { 1, 5}, { 2, 5 },\n",
    "              { 2 }, { 1, 5 }, { 1, 3, 5 }, { 4 }, { 1, 3, 4, 6 } ],\n",
    "            [ { 1, 3, 6 }, { 2, 4 }, set(), { 1, 3, 4 }, { 3 },\n",
    "              { 1, 4, 5 }, { 5 }, { 2, 4}, { 1, 3, 5 }, set(),\n",
    "              { 1, 3, 5 }, { 2 }, { 2, 4, 5 }, { 5 }, { 3, 4 },\n",
    "              { 2, 4, 5, 6 }, { 1, 3, 5 }, { 2, 4, 6 }, { 1, 3 }, { 1, 4 },\n",
    "              { 5 }, {3 }, set(), { 2, 5, 6 }, { 1, 3, 5, 6 } ],\n",
    "            [ { 6 }, { 3 }, { 2, 4 }, { 4, 5}, { 6 },\n",
    "              { 3, 5 }, { 4 }, { 3, 4, 6 }, { 1, 3, 4, 5 }, { 2, 4, 6 },\n",
    "              {4, 5 }, { 2, 5 }, { 1, 5, 6 }, { 2, 3, 6 }, { 2, 3 },\n",
    "              { 5 }, { 2, 4, 5, 6 }, { 2, 3, 5, 6 }, { 2, 4, 5 }, { 1, 3, 4, 6 },\n",
    "              { 2, 4, 5 }, { 4, 5 }, { 4 }, { 4, 5 }, { 3, 5, 6 } ] ]\n",
    "\n",
    "TRAINING_SIGNALS = [ { 3, 4 }, {1, 3, 6 }, { 5 -}, { 2, 5 }, {2, 4, 5} ]\n",
    "\n",
    "for clist, slist in zip(COVERAGE, SIGNALS):\n",
    "    for c, s in zip(clist, slist):\n",
    "        s.update(c)\n",
    "\n",
    "TARGET_COUNT = len(TARGETS[0])\n",
    "BLOCKS = len(TARGETS)\n",
    "TRIALS = len(COVERAGE[0])\n",
    "\n",
    "selection_agent = Agent(default_utility=None, mismatchPenalty = 2.5)\n",
    "attack_agent = Agent(default_utility=None)\n",
    "selection_agent.similarity([0,1], lambda x, y: 1 - abs(x - y) / 10)\n",
    "selection_agent.similarity([2], lambda x, y: 1 - abs(x -y))\n",
    "\n",
    "attacks = [0] * BLOCKS * TRIALS\n",
    "\n",
    "runs = 100 # number of runs (participants)\n",
    "data = []\n",
    "average_time = [] # to save time \n",
    "\n",
    "for p in range(runs):\n",
    "  total = 0\n",
    "  ttime = [0]\n",
    "  selection_agent.reset()\n",
    "  selection_agent.similarity([0,1], lambda x, y: 1 - abs(x - y) / 10)\n",
    "  selection_agent.similarity([2], lambda x, y: 1 - abs(x -y))\n",
    "  \n",
    "  attack_agent.reset()\n",
    "  dup = random.randrange(5)\n",
    "  for i in range(5):\n",
    "      n = random.randrange(TARGET_COUNT)\n",
    "      x = TARGETS[1][n]\n",
    "      covered = n + 1 in TRAINING_COVERAGE[i]\n",
    "      selection_agent.prepopulate(((x[\"payment\"],\n",
    "                                                x[\"penalty\"],\n",
    "                                                x[\"monitored_probability\"]), i + 1),\n",
    "                                                x[\"penalty\" if covered else \"payment\"])\n",
    "      attack_agent.prepopulate((True, n + 1 in TRAINING_SIGNALS[i]),x[\"penalty\" if covered else \"payment\"])\n",
    "\"\"\"      if i == dup:\n",
    "        \n",
    "          # x = TARGETS[1][5]\n",
    "          selection_agent.prepopulate(((x[\"payment\"],\n",
    "                                      x[\"penalty\"],\n",
    "                                      x[\"monitored_probability\"]), 6),\n",
    "                                      x[\"penalty\" if covered else \"payment\"])\n",
    "  attack_agent.prepopulate((False,False),0)\n",
    "  attack_agent.prepopulate((False,True),0)\n",
    "  attack_agent.prepopulate((True,False),10)\n",
    "  attack_agent.prepopulate((False,True),5)\"\"\"\n",
    "  \n",
    "  for b in range(BLOCKS):\n",
    "    start = time.time()\n",
    "    sds = [ ((x[\"payment\"],\n",
    "                                      x[\"penalty\"],\n",
    "                                      x[\"monitored_probability\"]), i + 1)\n",
    "                      for x, i in zip(TARGETS[b], range(TARGET_COUNT)) ]\n",
    "\n",
    "    for t in range(TRIALS):\n",
    "      selected = selection_agent.choose(sds)[1]\n",
    "      warned = selected in SIGNALS[b][t]\n",
    "      pmnt = TARGETS[b][selected - 1][\"payment\"]\n",
    "      attack = attack_agent.choose([(True, warned),\n",
    "                                    (False, warned)])[0]\n",
    "      covered = selected in COVERAGE[b][t]\n",
    "      if not attack:\n",
    "          payoff = 0\n",
    "      else:\n",
    "          payoff = TARGETS[b][selected - 1][\"penalty\" if covered else \"payment\"]\n",
    "          attacks[b * 25 + t] += 1\n",
    "      total += payoff\n",
    "      attack_agent.respond(payoff)\n",
    "      selection_agent.respond(payoff)\n",
    "      data.append([p+1, b+1,t+1,b*25+t+1, selected, int(warned), int(covered),int(attack),payoff, total])\n",
    "      end = time.time()\n",
    "      ttime.append(ttime[-1]+ end - start)\n",
    "  average_time.append(ttime)\n",
    "\n"
   ]
  },
  {
   "cell_type": "code",
   "execution_count": 21,
   "id": "precious-lancaster",
   "metadata": {},
   "outputs": [
    {
     "data": {
      "image/png": "[encoded data removed]",
      "text/plain": [
       "<Figure size 864x288 with 2 Axes>"
      ]
     },
     "metadata": {
      "needs_background": "light"
     },
     "output_type": "display_data"
    }
   ],
   "source": [
    "import matplotlib.pyplot as plt\n",
    "import numpy as np \n",
    "import pandas as pd \n",
    "plt.rcParams[\"figure.figsize\"] = (12,4)\n",
    "plt.subplot(int('12'+str(1)))\n",
    "plt.plot(range(101), np.mean(np.asarray(average_time),axis=0), 'o-', color='orange', markersize=2, linestyle='--', label='IBL')\n",
    "plt.xlabel('Trial')\n",
    "plt.ylabel('Time (s)')\n",
    "plt.title('Runing time')\n",
    "plt.legend()\n",
    "plt.subplot(int('12'+str(2)))\n",
    "df = pd.DataFrame(data)\n",
    "plt.plot(range(1,101), df.groupby(3).mean()[8], 'o-', color='blue', markersize=2, linewidth =2, linestyle='--',label='IBL')\n",
    "plt.xlabel('Trial')\n",
    "plt.ylabel('Average Reward')\n",
    "plt.title('Performance')\n",
    "plt.legend()\n",
    "plt.grid(True)\n",
    "plt.show()"
   ]
  },
  {
   "cell_type": "code",
   "execution_count": 5,
   "id": "spectacular-russell",
   "metadata": {},
   "outputs": [],
   "source": [
    "count=len(data)"
   ]
  },
  {
   "cell_type": "code",
   "execution_count": 6,
   "id": "living-tomato",
   "metadata": {},
   "outputs": [
    {
     "data": {
      "text/plain": [
       "100000"
      ]
     },
     "execution_count": 6,
     "metadata": {},
     "output_type": "execute_result"
    }
   ],
   "source": [
    "count"
   ]
  },
  {
   "cell_type": "code",
   "execution_count": null,
   "id": "juvenile-spare",
   "metadata": {},
   "outputs": [],
   "source": []
  }
 ],
 "metadata": {
  "kernelspec": {
   "display_name": "Python 3",
   "language": "python",
   "name": "python3"
  },
  "language_info": {
   "codemirror_mode": {
    "name": "ipython",
    "version": 3
   },
   "file_extension": ".py",
   "mimetype": "text/x-python",
   "name": "python",
   "nbconvert_exporter": "python",
   "pygments_lexer": "ipython3",
   "version": "3.8.5"
  }
 },
 "nbformat": 4,
 "nbformat_minor": 5
}
